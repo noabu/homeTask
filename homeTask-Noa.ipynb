{
 "cells": [
  {
   "cell_type": "markdown",
   "metadata": {},
   "source": [
    "# point inside contour<hr>"
   ]
  },
  {
   "cell_type": "code",
   "execution_count": 1,
   "metadata": {},
   "outputs": [],
   "source": [
    "import matplotlib.pyplot as plt"
   ]
  },
  {
   "cell_type": "markdown",
   "metadata": {},
   "source": [
    "global variables:"
   ]
  },
  {
   "cell_type": "code",
   "execution_count": 2,
   "metadata": {},
   "outputs": [],
   "source": [
    "BLACK = 0\n",
    "WHITE = 255\n",
    "MIN_SIZE = 3\n",
    "MIN_INDEX = 0"
   ]
  },
  {
   "cell_type": "markdown",
   "metadata": {},
   "source": [
    "Input validity checks.<br>\n",
    "params {2-D binary array, number, number, number, number} image, point coordinates(x, y), dimensions(h, w)<br>\n",
    "return {boolean} true if valid, else false."
   ]
  },
  {
   "cell_type": "code",
   "execution_count": 3,
   "metadata": {},
   "outputs": [],
   "source": [
    "def input_validation(image, p_x, p_y, h, w):\n",
    "    if h < MIN_SIZE and w < MIN_SIZE and h != image.shape[0] and w != image.shape[1]:\n",
    "        print(\"Image dimensions illegal.\")\n",
    "        return False\n",
    "    if p_x < MIN_INDEX or p_x >= w or p_y < MIN_INDEX or p_y >= h:\n",
    "        print(\"Coordinates P is outside the image borders.\")\n",
    "        return False\n",
    "    return True"
   ]
  },
  {
   "cell_type": "markdown",
   "metadata": {},
   "source": [
    "Draw a ray on the original image from the given point to one of the image borders.<br>\n",
    "param {2-D binary array, list, number} image, ray 4 Coordinates, x coordinate of the given point"
   ]
  },
  {
   "cell_type": "code",
   "execution_count": 4,
   "metadata": {},
   "outputs": [],
   "source": [
    "def draw_ray(image, ray, p_x):\n",
    "    plt.plot(p_x, ray[1], 'ro')\n",
    "    plt.hlines(ray[1], ray[0], ray[2], 'r')\n",
    "    plt.imshow(image, cmap='gray')\n",
    "    plt.show()"
   ]
  },
  {
   "cell_type": "markdown",
   "metadata": {},
   "source": [
    "pass over edge (if the current position on the ray is on edge).<br>\n",
    "params {2-D binary array, number, number} image, point y coordinate, current position<br>\n",
    "return {number} position of the end of the edge."
   ]
  },
  {
   "cell_type": "code",
   "execution_count": 5,
   "metadata": {},
   "outputs": [],
   "source": [
    "def pass_on_edge(image, p_y, i):\n",
    "    j = i + 1\n",
    "    while image[p_y, j] == BLACK:\n",
    "        j += 1\n",
    "    j -= 1\n",
    "    return j"
   ]
  },
  {
   "cell_type": "markdown",
   "metadata": {},
   "source": [
    "check for exceptions/extreme scenarios - vertex or specifics horizontal edge.<br>\n",
    "params {2-D binary array, number, number, boolean} image, point_y , current position, vertex flag<br>\n",
    "return {boolean} if exceptions/extreme scenario - true, else false.<br>\n",
    "***this function designed for pass with the ray on the image width.***"
   ]
  },
  {
   "cell_type": "code",
   "execution_count": 6,
   "metadata": {},
   "outputs": [],
   "source": [
    "def vertex_or_horizontal_edge(image, p_y, i, vertex_flag):\n",
    "    if image[p_y - 1, i] == BLACK and image[p_y - 1, i + 2] == BLACK:  # V -> lower vertex (neighbors: N.W, N.E)\n",
    "        vertex_flag = True\n",
    "    elif image[p_y + 1, i] == BLACK and image[p_y + 1, i + 2] == BLACK:  # ^ -> upper vertex (neighbors: S.W, S.E)\n",
    "        vertex_flag = True\n",
    "    elif image[p_y, i + 2] == BLACK and (\n",
    "            image[p_y - 1, i + 1] == BLACK or image[p_y - 1, i] == BLACK):  # low_horizontal_edge_vertex\n",
    "        j = pass_on_edge(image, p_y, i)\n",
    "        if image[p_y - 1, j] == BLACK or image[p_y - 1, j + 1] == BLACK:  # -> neighbors: N/N.W, N/N.E\n",
    "            vertex_flag = True\n",
    "    elif image[p_y, i + 2] == BLACK and (\n",
    "            image[p_y + 1, i + 1] == BLACK or image[p_y + 1, i] == BLACK):  # up_horizontal_edge_vertex\n",
    "        j = pass_on_edge(image, p_y, i)\n",
    "        if image[p_y + 1, j] == BLACK or image[p_y + 1, j + 1] == BLACK:  # -> neighbors: S/S.W, S/S.E\n",
    "            vertex_flag = True\n",
    "    return vertex_flag"
   ]
  },
  {
   "cell_type": "markdown",
   "metadata": {},
   "source": [
    "check if a given point is inside a given contour. <br>\n",
    "params {2-D binary array, number, number, number, number} image, point coordinates(x, y), dimensions(h, w) <br>\n",
    "return {boolean} true - if inside, else - false"
   ]
  },
  {
   "cell_type": "code",
   "execution_count": 7,
   "metadata": {},
   "outputs": [],
   "source": [
    "def check_if_inside(image, point, dim):\n",
    "    p_x, p_y = point\n",
    "    h, w = dim\n",
    "    if not input_validation(image, p_x, p_y, h, w):\n",
    "        return -1\n",
    "    inside = False\n",
    "    min_x = min(p_x, (w-1)-p_x)  # check the shortest direction of the ray\n",
    "    if min_x == (w-1)-p_x:  # right\n",
    "        ray = (p_x, p_y, (w-1), p_y)\n",
    "    else: # left            \n",
    "        ray = (0, p_y, p_x, p_y)\n",
    "    draw_ray(image, ray, p_x)\n",
    "    if image[p_y, p_x] == BLACK:  # if the point on the contour\n",
    "        print(\"point\", point, \"on the contour\")\n",
    "        return inside\n",
    "    count = 0\n",
    "    vertex_flag = False  # check if we were on horizontal edge or vertex for counter\n",
    "    for i in range(ray[0], ray[2]):\n",
    "        # contour crossing + Check that the current pixel is not on the rightmost pixel in the image\n",
    "        if image[p_y, i] != image[p_y, i+1]: \n",
    "            if i+2 < w and image[p_y, i] == WHITE:\n",
    "                # check neighbors to determine if the current pixel edge or vertex - exceptions/extreme scenarios\n",
    "                # if one of the flags true --> not count contour crossing\n",
    "                vertex_flag = vertex_or_horizontal_edge(image, p_y, i, vertex_flag)\n",
    "            # if contour is on the rightmost/ leftmost pixel in the image\n",
    "            elif (i+2 >= w and image[p_y, i] == WHITE) or (i==0 and image[p_y, i] == BLACK):\n",
    "                count += 0.5\n",
    "            if not vertex_flag:   # if not exception/extreme scenario --> count contour crossing.\n",
    "                count += 0.5\n",
    "            if image[p_y, i] == BLACK:  # if we at the end of the edge/ vertex (turn off extreme scenario).\n",
    "                vertex_flag = False\n",
    "    #  even-odd check\n",
    "    if count % 2 == 0:\n",
    "        print(\"point\", point, \"outside the contour\")\n",
    "        inside = False\n",
    "    else:\n",
    "        print(\"point\", point, \"inside the contour\")\n",
    "        inside = True\n",
    "    return inside"
   ]
  },
  {
   "cell_type": "markdown",
   "metadata": {},
   "source": [
    "# Testing code"
   ]
  },
  {
   "cell_type": "code",
   "execution_count": 8,
   "metadata": {},
   "outputs": [],
   "source": [
    "import numpy as np\n",
    "import matplotlib.pyplot as plt\n",
    "import cv2\n",
    "import imageio"
   ]
  },
  {
   "cell_type": "markdown",
   "metadata": {},
   "source": [
    "test #1 create image with 100X150 rectangle"
   ]
  },
  {
   "cell_type": "code",
   "execution_count": 9,
   "metadata": {},
   "outputs": [],
   "source": [
    "a = np.zeros((200, 200), np.uint8)\n",
    "cv2.rectangle(a, (50,25), (150,175), 255, thickness=1, lineType=8, shift=0)\n",
    "a = np.invert(a)"
   ]
  },
  {
   "cell_type": "code",
   "execution_count": 10,
   "metadata": {},
   "outputs": [
    {
     "data": {
      "image/png": "[encoded data removed]",
      "text/plain": [
       "<Figure size 432x288 with 1 Axes>"
      ]
     },
     "metadata": {
      "needs_background": "light"
     },
     "output_type": "display_data"
    },
    {
     "name": "stdout",
     "output_type": "stream",
     "text": [
      "point (100, 100) inside the contour\n",
      "True\n"
     ]
    }
   ],
   "source": [
    "print(check_if_inside(a, (100, 100), a.shape))"
   ]
  },
  {
   "cell_type": "code",
   "execution_count": 11,
   "metadata": {},
   "outputs": [
    {
     "data": {
      "image/png": "[encoded data removed]",
      "text/plain": [
       "<Figure size 432x288 with 1 Axes>"
      ]
     },
     "metadata": {
      "needs_background": "light"
     },
     "output_type": "display_data"
    },
    {
     "name": "stdout",
     "output_type": "stream",
     "text": [
      "point (25, 25) outside the contour\n",
      "False\n"
     ]
    }
   ],
   "source": [
    "print(check_if_inside(a, (25, 25), a.shape))"
   ]
  },
  {
   "cell_type": "code",
   "execution_count": 12,
   "metadata": {},
   "outputs": [
    {
     "data": {
      "image/png": "[encoded data removed]",
      "text/plain": [
       "<Figure size 432x288 with 1 Axes>"
      ]
     },
     "metadata": {
      "needs_background": "light"
     },
     "output_type": "display_data"
    },
    {
     "name": "stdout",
     "output_type": "stream",
     "text": [
      "point (25, 50) outside the contour\n",
      "False\n"
     ]
    }
   ],
   "source": [
    "print(check_if_inside(a, (25, 50), a.shape))"
   ]
  },
  {
   "cell_type": "code",
   "execution_count": 13,
   "metadata": {},
   "outputs": [
    {
     "data": {
      "image/png": "[encoded data removed]",
      "text/plain": [
       "<Figure size 432x288 with 1 Axes>"
      ]
     },
     "metadata": {
      "needs_background": "light"
     },
     "output_type": "display_data"
    },
    {
     "name": "stdout",
     "output_type": "stream",
     "text": [
      "point (110, 174) inside the contour\n",
      "True\n"
     ]
    }
   ],
   "source": [
    "print(check_if_inside(a, (110, 174), a.shape))"
   ]
  },
  {
   "cell_type": "code",
   "execution_count": 14,
   "metadata": {},
   "outputs": [
    {
     "data": {
      "image/png": "[encoded data removed]",
      "text/plain": [
       "<Figure size 432x288 with 1 Axes>"
      ]
     },
     "metadata": {
      "needs_background": "light"
     },
     "output_type": "display_data"
    },
    {
     "name": "stdout",
     "output_type": "stream",
     "text": [
      "point (110, 175) on the contour\n",
      "False\n"
     ]
    }
   ],
   "source": [
    "print(check_if_inside(a, (110, 175), a.shape))"
   ]
  },
  {
   "cell_type": "markdown",
   "metadata": {},
   "source": [
    "test #2"
   ]
  },
  {
   "cell_type": "code",
   "execution_count": 15,
   "metadata": {},
   "outputs": [],
   "source": [
    "b = np.zeros((200, 160), np.uint8)\n",
    "b[25:90, 50:150] = 255\n",
    "b[25:175, 50:80] = 255\n",
    "b[25:175, 120:150] = 255\n",
    "b[26:89, 51:149] = 0\n",
    "b[26:174, 51:79] = 0\n",
    "b[26:174, 121:149] = 0\n",
    "b = np.invert(b)"
   ]
  },
  {
   "cell_type": "code",
   "execution_count": 16,
   "metadata": {},
   "outputs": [
    {
     "data": {
      "image/png": "[encoded data removed]",
      "text/plain": [
       "<Figure size 432x288 with 1 Axes>"
      ]
     },
     "metadata": {
      "needs_background": "light"
     },
     "output_type": "display_data"
    },
    {
     "name": "stdout",
     "output_type": "stream",
     "text": [
      "point (51, 89) inside the contour\n",
      "True\n"
     ]
    }
   ],
   "source": [
    "print(check_if_inside(b, (51, 89), b.shape))"
   ]
  },
  {
   "cell_type": "code",
   "execution_count": 17,
   "metadata": {},
   "outputs": [
    {
     "data": {
      "image/png": "[encoded data removed]",
      "text/plain": [
       "<Figure size 432x288 with 1 Axes>"
      ]
     },
     "metadata": {
      "needs_background": "light"
     },
     "output_type": "display_data"
    },
    {
     "name": "stdout",
     "output_type": "stream",
     "text": [
      "point (20, 89) outside the contour\n",
      "False\n"
     ]
    }
   ],
   "source": [
    "print(check_if_inside(b, (20, 89), b.shape))"
   ]
  },
  {
   "cell_type": "code",
   "execution_count": 18,
   "metadata": {},
   "outputs": [
    {
     "data": {
      "image/png": "[encoded data removed]",
      "text/plain": [
       "<Figure size 432x288 with 1 Axes>"
      ]
     },
     "metadata": {
      "needs_background": "light"
     },
     "output_type": "display_data"
    },
    {
     "name": "stdout",
     "output_type": "stream",
     "text": [
      "point (60, 130) inside the contour\n",
      "True\n"
     ]
    }
   ],
   "source": [
    "print(check_if_inside(b, (60, 130), b.shape))"
   ]
  },
  {
   "cell_type": "code",
   "execution_count": 19,
   "metadata": {},
   "outputs": [
    {
     "data": {
      "image/png": "[encoded data removed]",
      "text/plain": [
       "<Figure size 432x288 with 1 Axes>"
      ]
     },
     "metadata": {
      "needs_background": "light"
     },
     "output_type": "display_data"
    },
    {
     "name": "stdout",
     "output_type": "stream",
     "text": [
      "point (90, 125) outside the contour\n",
      "False\n"
     ]
    }
   ],
   "source": [
    "print(check_if_inside(b, (90, 125), b.shape))"
   ]
  },
  {
   "cell_type": "code",
   "execution_count": 20,
   "metadata": {},
   "outputs": [
    {
     "data": {
      "image/png": "[encoded data removed]",
      "text/plain": [
       "<Figure size 432x288 with 1 Axes>"
      ]
     },
     "metadata": {
      "needs_background": "light"
     },
     "output_type": "display_data"
    },
    {
     "name": "stdout",
     "output_type": "stream",
     "text": [
      "point (90, 175) outside the contour\n",
      "False\n"
     ]
    }
   ],
   "source": [
    "print(check_if_inside(b, (90, 175), b.shape))"
   ]
  },
  {
   "cell_type": "markdown",
   "metadata": {},
   "source": [
    "test #3"
   ]
  },
  {
   "cell_type": "code",
   "execution_count": 21,
   "metadata": {},
   "outputs": [],
   "source": [
    "c = np.zeros((5, 5), np.uint8)\n",
    "c[1:4,1:4]=255\n",
    "c[2,2]=0\n",
    "c=np.invert(c)"
   ]
  },
  {
   "cell_type": "code",
   "execution_count": 22,
   "metadata": {},
   "outputs": [
    {
     "data": {
      "image/png": "[encoded data removed]",
      "text/plain": [
       "<Figure size 432x288 with 1 Axes>"
      ]
     },
     "metadata": {
      "needs_background": "light"
     },
     "output_type": "display_data"
    },
    {
     "name": "stdout",
     "output_type": "stream",
     "text": [
      "point (1, 1) on the contour\n",
      "False\n"
     ]
    }
   ],
   "source": [
    "print(check_if_inside(c, (1, 1), c.shape))"
   ]
  },
  {
   "cell_type": "code",
   "execution_count": 23,
   "metadata": {},
   "outputs": [
    {
     "data": {
      "image/png": "[encoded data removed]",
      "text/plain": [
       "<Figure size 432x288 with 1 Axes>"
      ]
     },
     "metadata": {
      "needs_background": "light"
     },
     "output_type": "display_data"
    },
    {
     "name": "stdout",
     "output_type": "stream",
     "text": [
      "point (2, 2) inside the contour\n",
      "True\n"
     ]
    }
   ],
   "source": [
    "print(check_if_inside(c, (2, 2), c.shape))"
   ]
  },
  {
   "cell_type": "code",
   "execution_count": 24,
   "metadata": {},
   "outputs": [
    {
     "data": {
      "image/png": "[encoded data removed]",
      "text/plain": [
       "<Figure size 432x288 with 1 Axes>"
      ]
     },
     "metadata": {
      "needs_background": "light"
     },
     "output_type": "display_data"
    },
    {
     "name": "stdout",
     "output_type": "stream",
     "text": [
      "point (4, 1) outside the contour\n",
      "False\n"
     ]
    }
   ],
   "source": [
    "print(check_if_inside(c, (4, 1), c.shape))"
   ]
  },
  {
   "cell_type": "code",
   "execution_count": 25,
   "metadata": {},
   "outputs": [
    {
     "name": "stdout",
     "output_type": "stream",
     "text": [
      "Coordinates P is outside the image borders.\n",
      "-1\n"
     ]
    }
   ],
   "source": [
    "print(check_if_inside(c, (5, 2), c.shape))"
   ]
  },
  {
   "cell_type": "markdown",
   "metadata": {},
   "source": [
    "test #4"
   ]
  },
  {
   "cell_type": "code",
   "execution_count": 26,
   "metadata": {},
   "outputs": [],
   "source": [
    "d = np.zeros((3, 3), np.uint8)\n",
    "d[1,1]=255"
   ]
  },
  {
   "cell_type": "code",
   "execution_count": 27,
   "metadata": {},
   "outputs": [
    {
     "data": {
      "image/png": "[encoded data removed]",
      "text/plain": [
       "<Figure size 432x288 with 1 Axes>"
      ]
     },
     "metadata": {
      "needs_background": "light"
     },
     "output_type": "display_data"
    },
    {
     "name": "stdout",
     "output_type": "stream",
     "text": [
      "point (1, 1) inside the contour\n",
      "True\n"
     ]
    }
   ],
   "source": [
    "print(check_if_inside(d, (1, 1), d.shape))"
   ]
  },
  {
   "cell_type": "code",
   "execution_count": 28,
   "metadata": {},
   "outputs": [
    {
     "data": {
      "image/png": "[encoded data removed]",
      "text/plain": [
       "<Figure size 432x288 with 1 Axes>"
      ]
     },
     "metadata": {
      "needs_background": "light"
     },
     "output_type": "display_data"
    },
    {
     "name": "stdout",
     "output_type": "stream",
     "text": [
      "point (2, 0) on the contour\n",
      "False\n"
     ]
    }
   ],
   "source": [
    "print(check_if_inside(d, (2, 0), d.shape))"
   ]
  },
  {
   "cell_type": "markdown",
   "metadata": {},
   "source": [
    "test #5"
   ]
  },
  {
   "cell_type": "code",
   "execution_count": 29,
   "metadata": {},
   "outputs": [],
   "source": [
    "d = np.zeros((10, 10), np.uint8)\n",
    "d[1:9,1:9]=255\n",
    "d[9,1]=255\n",
    "d[8,1]=0\n",
    "d[8:10,0]=255\n",
    "d[8, 4:6]=0\n",
    "d[9, 4:6]=255"
   ]
  },
  {
   "cell_type": "code",
   "execution_count": 30,
   "metadata": {},
   "outputs": [
    {
     "data": {
      "image/png": "[encoded data removed]",
      "text/plain": [
       "<Figure size 432x288 with 1 Axes>"
      ]
     },
     "metadata": {
      "needs_background": "light"
     },
     "output_type": "display_data"
    },
    {
     "name": "stdout",
     "output_type": "stream",
     "text": [
      "point (1, 1) inside the contour\n",
      "True\n"
     ]
    }
   ],
   "source": [
    "print(check_if_inside(d, (1, 1), d.shape))"
   ]
  },
  {
   "cell_type": "code",
   "execution_count": 31,
   "metadata": {},
   "outputs": [
    {
     "data": {
      "image/png": "[encoded data removed]",
      "text/plain": [
       "<Figure size 432x288 with 1 Axes>"
      ]
     },
     "metadata": {
      "needs_background": "light"
     },
     "output_type": "display_data"
    },
    {
     "name": "stdout",
     "output_type": "stream",
     "text": [
      "point (3, 2) inside the contour\n",
      "True\n"
     ]
    }
   ],
   "source": [
    "print(check_if_inside(d, (3, 2), d.shape))"
   ]
  },
  {
   "cell_type": "code",
   "execution_count": 32,
   "metadata": {},
   "outputs": [
    {
     "data": {
      "image/png": "[encoded data removed]",
      "text/plain": [
       "<Figure size 432x288 with 1 Axes>"
      ]
     },
     "metadata": {
      "needs_background": "light"
     },
     "output_type": "display_data"
    },
    {
     "name": "stdout",
     "output_type": "stream",
     "text": [
      "point (2, 8) inside the contour\n",
      "True\n"
     ]
    }
   ],
   "source": [
    "print(check_if_inside(d, (2, 8), d.shape))"
   ]
  },
  {
   "cell_type": "markdown",
   "metadata": {},
   "source": [
    "test #6 circle"
   ]
  },
  {
   "cell_type": "code",
   "execution_count": 33,
   "metadata": {},
   "outputs": [],
   "source": [
    "cir = np.zeros((100,100), np.uint8)\n",
    "cv2.circle(cir, (40, 50), 25, 255, thickness=1, lineType=8, shift=0)\n",
    "cir = np.invert(cir)\n",
    "plt.rcParams[\"figure.figsize\"] = (10,10)"
   ]
  },
  {
   "cell_type": "code",
   "execution_count": 34,
   "metadata": {},
   "outputs": [
    {
     "data": {
      "image/png": "[encoded data removed]",
      "text/plain": [
       "<Figure size 720x720 with 1 Axes>"
      ]
     },
     "metadata": {
      "needs_background": "light"
     },
     "output_type": "display_data"
    },
    {
     "name": "stdout",
     "output_type": "stream",
     "text": [
      "point (49, 25) outside the contour\n",
      "False\n"
     ]
    }
   ],
   "source": [
    "print(check_if_inside(cir, (49, 25), cir.shape))"
   ]
  },
  {
   "cell_type": "code",
   "execution_count": 35,
   "metadata": {},
   "outputs": [
    {
     "data": {
      "image/png": "[encoded data removed]",
      "text/plain": [
       "<Figure size 720x720 with 1 Axes>"
      ]
     },
     "metadata": {
      "needs_background": "light"
     },
     "output_type": "display_data"
    },
    {
     "name": "stdout",
     "output_type": "stream",
     "text": [
      "point (49, 26) outside the contour\n",
      "False\n"
     ]
    }
   ],
   "source": [
    "print(check_if_inside(cir, (49, 26), cir.shape))"
   ]
  },
  {
   "cell_type": "code",
   "execution_count": 36,
   "metadata": {},
   "outputs": [
    {
     "data": {
      "image/png": "[encoded data removed]",
      "text/plain": [
       "<Figure size 720x720 with 1 Axes>"
      ]
     },
     "metadata": {
      "needs_background": "light"
     },
     "output_type": "display_data"
    },
    {
     "name": "stdout",
     "output_type": "stream",
     "text": [
      "point (40, 50) inside the contour\n",
      "True\n"
     ]
    }
   ],
   "source": [
    "print(check_if_inside(cir, (40, 50), cir.shape))"
   ]
  },
  {
   "cell_type": "code",
   "execution_count": 37,
   "metadata": {},
   "outputs": [
    {
     "data": {
      "image/png": "[encoded data removed]",
      "text/plain": [
       "<Figure size 720x720 with 1 Axes>"
      ]
     },
     "metadata": {
      "needs_background": "light"
     },
     "output_type": "display_data"
    },
    {
     "name": "stdout",
     "output_type": "stream",
     "text": [
      "point (70, 40) outside the contour\n",
      "False\n"
     ]
    }
   ],
   "source": [
    "print(check_if_inside(cir, (70, 40), cir.shape))"
   ]
  },
  {
   "cell_type": "markdown",
   "metadata": {},
   "source": [
    "test #7 hand"
   ]
  },
  {
   "cell_type": "code",
   "execution_count": 38,
   "metadata": {},
   "outputs": [],
   "source": [
    "im = imageio.imread('hand.png')\n",
    "imgray = cv2.cvtColor(im, cv2.COLOR_BGR2GRAY)\n",
    "hand = np.zeros(imgray.shape, np.uint8)\n",
    "contours, hierarchy = cv2.findContours(imgray, cv2.RETR_TREE, cv2.CHAIN_APPROX_SIMPLE)\n",
    "c = max(contours, key=cv2.contourArea)\n",
    "cv2.drawContours(hand, [c], -1, (255,255,255), 1)\n",
    "hand = np.invert(hand)"
   ]
  },
  {
   "cell_type": "code",
   "execution_count": 39,
   "metadata": {},
   "outputs": [
    {
     "data": {
      "image/png": "[encoded data removed]",
      "text/plain": [
       "<Figure size 720x720 with 1 Axes>"
      ]
     },
     "metadata": {
      "needs_background": "light"
     },
     "output_type": "display_data"
    },
    {
     "name": "stdout",
     "output_type": "stream",
     "text": [
      "point (258, 228) inside the contour\n",
      "True\n"
     ]
    }
   ],
   "source": [
    "print(check_if_inside(hand, (258, 228), hand.shape))"
   ]
  },
  {
   "cell_type": "code",
   "execution_count": 40,
   "metadata": {},
   "outputs": [
    {
     "data": {
      "image/png": "[encoded data removed]",
      "text/plain": [
       "<Figure size 720x720 with 1 Axes>"
      ]
     },
     "metadata": {
      "needs_background": "light"
     },
     "output_type": "display_data"
    },
    {
     "name": "stdout",
     "output_type": "stream",
     "text": [
      "point (258, 170) inside the contour\n",
      "True\n"
     ]
    }
   ],
   "source": [
    "print(check_if_inside(hand, (258, 170), hand.shape))"
   ]
  },
  {
   "cell_type": "code",
   "execution_count": 41,
   "metadata": {},
   "outputs": [
    {
     "data": {
      "image/png": "[encoded data removed]",
      "text/plain": [
       "<Figure size 720x720 with 1 Axes>"
      ]
     },
     "metadata": {
      "needs_background": "light"
     },
     "output_type": "display_data"
    },
    {
     "name": "stdout",
     "output_type": "stream",
     "text": [
      "point (300, 220) outside the contour\n",
      "False\n"
     ]
    }
   ],
   "source": [
    "print(check_if_inside(hand, (300, 220), hand.shape))"
   ]
  },
  {
   "cell_type": "markdown",
   "metadata": {},
   "source": [
    "### outside - on - inside the contour:\n",
    "change only the x coordinate of the point. (each time add 1)."
   ]
  },
  {
   "cell_type": "code",
   "execution_count": 42,
   "metadata": {},
   "outputs": [
    {
     "data": {
      "image/png": "[encoded data removed]",
      "text/plain": [
       "<Figure size 720x720 with 1 Axes>"
      ]
     },
     "metadata": {
      "needs_background": "light"
     },
     "output_type": "display_data"
    },
    {
     "name": "stdout",
     "output_type": "stream",
     "text": [
      "point (189, 248) outside the contour\n",
      "False\n"
     ]
    },
    {
     "data": {
      "image/png": "[encoded data removed]",
      "text/plain": [
       "<Figure size 720x720 with 1 Axes>"
      ]
     },
     "metadata": {
      "needs_background": "light"
     },
     "output_type": "display_data"
    },
    {
     "name": "stdout",
     "output_type": "stream",
     "text": [
      "point (190, 248) on the contour\n",
      "False\n"
     ]
    },
    {
     "data": {
      "image/png": "[encoded data removed]",
      "text/plain": [
       "<Figure size 720x720 with 1 Axes>"
      ]
     },
     "metadata": {
      "needs_background": "light"
     },
     "output_type": "display_data"
    },
    {
     "name": "stdout",
     "output_type": "stream",
     "text": [
      "point (191, 248) inside the contour\n",
      "True\n"
     ]
    }
   ],
   "source": [
    "print(check_if_inside(hand, (189, 248), hand.shape))\n",
    "print(check_if_inside(hand, (190, 248), hand.shape))\n",
    "print(check_if_inside(hand, (191, 248), hand.shape))"
   ]
  }
 ],
 "metadata": {
  "kernelspec": {
   "display_name": "Python 3",
   "language": "python",
   "name": "python3"
  },
  "language_info": {
   "codemirror_mode": {
    "name": "ipython",
    "version": 3
   },
   "file_extension": ".py",
   "mimetype": "text/x-python",
   "name": "python",
   "nbconvert_exporter": "python",
   "pygments_lexer": "ipython3",
   "version": "3.7.0"
  }
 },
 "nbformat": 4,
 "nbformat_minor": 2
}
